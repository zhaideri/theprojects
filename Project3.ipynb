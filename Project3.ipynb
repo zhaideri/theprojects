{
  "nbformat": 4,
  "nbformat_minor": 0,
  "metadata": {
    "colab": {
      "provenance": [],
      "toc_visible": true,
      "authorship_tag": "ABX9TyO2E8fc+WAVWeEFk3RCSYi4",
      "include_colab_link": true
    },
    "kernelspec": {
      "name": "python3",
      "display_name": "Python 3"
    },
    "language_info": {
      "name": "python"
    }
  },
  "cells": [
    {
      "cell_type": "markdown",
      "metadata": {
        "id": "view-in-github",
        "colab_type": "text"
      },
      "source": [
        "<a href=\"https://colab.research.google.com/github/zhaideri/theprojects/blob/main/Project3.ipynb\" target=\"_parent\"><img src=\"https://colab.research.google.com/assets/colab-badge.svg\" alt=\"Open In Colab\"/></a>"
      ]
    },
    {
      "cell_type": "code",
      "execution_count": null,
      "metadata": {
        "colab": {
          "base_uri": "https://localhost:8080/"
        },
        "id": "H2rBrbF9uky_",
        "outputId": "c634223c-f8e2-4b88-9002-2fe6918f4375"
      },
      "outputs": [
        {
          "output_type": "stream",
          "name": "stdout",
          "text": [
            "Requirement already satisfied: pandas in /usr/local/lib/python3.10/dist-packages (2.2.2)\n",
            "Requirement already satisfied: mlxtend in /usr/local/lib/python3.10/dist-packages (0.23.3)\n",
            "Requirement already satisfied: numpy>=1.22.4 in /usr/local/lib/python3.10/dist-packages (from pandas) (1.26.4)\n",
            "Requirement already satisfied: python-dateutil>=2.8.2 in /usr/local/lib/python3.10/dist-packages (from pandas) (2.8.2)\n",
            "Requirement already satisfied: pytz>=2020.1 in /usr/local/lib/python3.10/dist-packages (from pandas) (2024.2)\n",
            "Requirement already satisfied: tzdata>=2022.7 in /usr/local/lib/python3.10/dist-packages (from pandas) (2024.2)\n",
            "Requirement already satisfied: scipy>=1.2.1 in /usr/local/lib/python3.10/dist-packages (from mlxtend) (1.13.1)\n",
            "Requirement already satisfied: scikit-learn>=1.3.1 in /usr/local/lib/python3.10/dist-packages (from mlxtend) (1.5.2)\n",
            "Requirement already satisfied: matplotlib>=3.0.0 in /usr/local/lib/python3.10/dist-packages (from mlxtend) (3.8.0)\n",
            "Requirement already satisfied: joblib>=0.13.2 in /usr/local/lib/python3.10/dist-packages (from mlxtend) (1.4.2)\n",
            "Requirement already satisfied: contourpy>=1.0.1 in /usr/local/lib/python3.10/dist-packages (from matplotlib>=3.0.0->mlxtend) (1.3.1)\n",
            "Requirement already satisfied: cycler>=0.10 in /usr/local/lib/python3.10/dist-packages (from matplotlib>=3.0.0->mlxtend) (0.12.1)\n",
            "Requirement already satisfied: fonttools>=4.22.0 in /usr/local/lib/python3.10/dist-packages (from matplotlib>=3.0.0->mlxtend) (4.55.2)\n",
            "Requirement already satisfied: kiwisolver>=1.0.1 in /usr/local/lib/python3.10/dist-packages (from matplotlib>=3.0.0->mlxtend) (1.4.7)\n",
            "Requirement already satisfied: packaging>=20.0 in /usr/local/lib/python3.10/dist-packages (from matplotlib>=3.0.0->mlxtend) (24.2)\n",
            "Requirement already satisfied: pillow>=6.2.0 in /usr/local/lib/python3.10/dist-packages (from matplotlib>=3.0.0->mlxtend) (11.0.0)\n",
            "Requirement already satisfied: pyparsing>=2.3.1 in /usr/local/lib/python3.10/dist-packages (from matplotlib>=3.0.0->mlxtend) (3.2.0)\n",
            "Requirement already satisfied: six>=1.5 in /usr/local/lib/python3.10/dist-packages (from python-dateutil>=2.8.2->pandas) (1.17.0)\n",
            "Requirement already satisfied: threadpoolctl>=3.1.0 in /usr/local/lib/python3.10/dist-packages (from scikit-learn>=1.3.1->mlxtend) (3.5.0)\n"
          ]
        }
      ],
      "source": [
        "%pip install pandas mlxtend\n"
      ]
    },
    {
      "cell_type": "code",
      "source": [
        "import pandas as pd\n",
        "from mlxtend.frequent_patterns import apriori, association_rules\n",
        "from mlxtend.preprocessing import TransactionEncoder"
      ],
      "metadata": {
        "colab": {
          "base_uri": "https://localhost:8080/"
        },
        "id": "GvfAnKvKza1P",
        "outputId": "d1fa2ba5-6f47-49c4-ed4a-69e8f0d194c5"
      },
      "execution_count": null,
      "outputs": [
        {
          "output_type": "stream",
          "name": "stderr",
          "text": [
            "/usr/local/lib/python3.10/dist-packages/ipykernel/ipkernel.py:283: DeprecationWarning: `should_run_async` will not call `transform_cell` automatically in the future. Please pass the result to `transformed_cell` argument and any exception that happen during thetransform in `preprocessing_exc_tuple` in IPython 7.17 and above.\n",
            "  and should_run_async(code)\n"
          ]
        }
      ]
    },
    {
      "cell_type": "code",
      "source": [
        "import pandas as pd\n",
        "from mlxtend.frequent_patterns import apriori, association_rules\n",
        "\n",
        "# Load the data\n",
        "data = pd.read_csv('zain_data.csv')\n",
        "\n",
        "# Display the first few rows of the dataset\n",
        "print(data.head())\n",
        "\n",
        "# Prepare the data for market basket analysis\n",
        "basket = (data.groupby(['Order ID', 'Product Name'])['Product Price']\n",
        "          .sum().unstack().reset_index().fillna(0)\n",
        "          .set_index('Order ID'))\n",
        "\n",
        "# Convert the values to 1 or 0\n",
        "def encode_units(x):\n",
        "    return 1 if x >= 1 else 0\n",
        "\n",
        "basket_sets = basket.applymap(encode_units)\n",
        "\n",
        "# Apply the apriori algorithm\n",
        "frequent_itemsets = apriori(basket_sets, min_support=0.01, use_colnames=True)\n",
        "\n",
        "# Check if 'num_itemsets' is needed in association_rules\n",
        "try:\n",
        "    # Generate the association rules without 'num_itemsets'\n",
        "    rules = association_rules(frequent_itemsets, metric=\"lift\", min_threshold=1)\n",
        "except TypeError:\n",
        "    # Handle older versions requiring 'num_itemsets'\n",
        "    rules = association_rules(frequent_itemsets, frequent_itemsets.shape[0], metric=\"lift\", min_threshold=1)\n",
        "\n",
        "# Display the results\n",
        "print(frequent_itemsets)\n",
        "print(rules)\n"
      ],
      "metadata": {
        "colab": {
          "base_uri": "https://localhost:8080/"
        },
        "id": "8aLLxq6Q2w2F",
        "outputId": "8e0f0b71-f74e-4ea1-b3c1-813a97a23213"
      },
      "execution_count": null,
      "outputs": [
        {
          "output_type": "stream",
          "name": "stdout",
          "text": [
            "         Date             Time  Store ID  Customer ID    Order ID  \\\n",
            "0  2024-12-04  18:14:10.326456         1          100  1-100-4341   \n",
            "1  2024-12-04  18:14:10.326456         1          100  1-100-4341   \n",
            "2  2024-12-04  18:14:10.326456         1          100  1-100-1621   \n",
            "3  2024-12-04  18:14:10.326456         1          100  1-100-1621   \n",
            "4  2024-12-04  18:14:10.326456         1          100  1-100-2883   \n",
            "\n",
            "       Product Name  Product Price  \n",
            "0        Headphones          350.0  \n",
            "1        VR goggles          200.0  \n",
            "2     Flatscreen TV         1000.0  \n",
            "3  Silicon Ornament           20.0  \n",
            "4     Flatscreen TV         1000.0  \n",
            "     support                                      itemsets\n",
            "0   0.310000                               (Flatscreen TV)\n",
            "1   0.282000                                  (Headphones)\n",
            "2   0.294000                                    (Hologram)\n",
            "3   0.312000                            (Silicon Ornament)\n",
            "4   0.293333                    (Universal Charging Cable)\n",
            "5   0.324000                                  (VR goggles)\n",
            "6   0.048000                   (Flatscreen TV, Headphones)\n",
            "7   0.048667                     (Flatscreen TV, Hologram)\n",
            "8   0.056000             (Flatscreen TV, Silicon Ornament)\n",
            "9   0.060667     (Flatscreen TV, Universal Charging Cable)\n",
            "10  0.065333                   (Flatscreen TV, VR goggles)\n",
            "11  0.053333                        (Hologram, Headphones)\n",
            "12  0.062667                (Silicon Ornament, Headphones)\n",
            "13  0.045333        (Universal Charging Cable, Headphones)\n",
            "14  0.048000                      (VR goggles, Headphones)\n",
            "15  0.045333                  (Hologram, Silicon Ornament)\n",
            "16  0.052667          (Hologram, Universal Charging Cable)\n",
            "17  0.061333                        (VR goggles, Hologram)\n",
            "18  0.051333  (Universal Charging Cable, Silicon Ornament)\n",
            "19  0.064000                (VR goggles, Silicon Ornament)\n",
            "20  0.052667        (VR goggles, Universal Charging Cable)\n",
            "Empty DataFrame\n",
            "Columns: [antecedents, consequents, antecedent support, consequent support, support, confidence, lift, representativity, leverage, conviction, zhangs_metric, jaccard, certainty, kulczynski]\n",
            "Index: []\n"
          ]
        },
        {
          "output_type": "stream",
          "name": "stderr",
          "text": [
            "/usr/local/lib/python3.10/dist-packages/ipykernel/ipkernel.py:283: DeprecationWarning: `should_run_async` will not call `transform_cell` automatically in the future. Please pass the result to `transformed_cell` argument and any exception that happen during thetransform in `preprocessing_exc_tuple` in IPython 7.17 and above.\n",
            "  and should_run_async(code)\n",
            "<ipython-input-17-1a9de2c70e55>:19: FutureWarning: DataFrame.applymap has been deprecated. Use DataFrame.map instead.\n",
            "  basket_sets = basket.applymap(encode_units)\n",
            "/usr/local/lib/python3.10/dist-packages/mlxtend/frequent_patterns/fpcommon.py:161: DeprecationWarning: DataFrames with non-bool types result in worse computationalperformance and their support might be discontinued in the future.Please use a DataFrame with bool type\n",
            "  warnings.warn(\n"
          ]
        }
      ]
    },
    {
      "cell_type": "code",
      "source": [
        "## Data Loading\n",
        "\n",
        "import pandas as pd\n",
        "data = pd.read_csv('zain_data.csv')\n",
        "print(data.head())\n"
      ],
      "metadata": {
        "colab": {
          "base_uri": "https://localhost:8080/"
        },
        "id": "2szVCstz2-hZ",
        "outputId": "c103ad6a-d4fe-4c63-81ab-93326039af48"
      },
      "execution_count": null,
      "outputs": [
        {
          "output_type": "stream",
          "name": "stdout",
          "text": [
            "         Date             Time  Store ID  Customer ID    Order ID  \\\n",
            "0  2024-12-04  18:14:10.326456         1          100  1-100-4341   \n",
            "1  2024-12-04  18:14:10.326456         1          100  1-100-4341   \n",
            "2  2024-12-04  18:14:10.326456         1          100  1-100-1621   \n",
            "3  2024-12-04  18:14:10.326456         1          100  1-100-1621   \n",
            "4  2024-12-04  18:14:10.326456         1          100  1-100-2883   \n",
            "\n",
            "       Product Name  Product Price  \n",
            "0        Headphones          350.0  \n",
            "1        VR goggles          200.0  \n",
            "2     Flatscreen TV         1000.0  \n",
            "3  Silicon Ornament           20.0  \n",
            "4     Flatscreen TV         1000.0  \n"
          ]
        },
        {
          "output_type": "stream",
          "name": "stderr",
          "text": [
            "/usr/local/lib/python3.10/dist-packages/ipykernel/ipkernel.py:283: DeprecationWarning: `should_run_async` will not call `transform_cell` automatically in the future. Please pass the result to `transformed_cell` argument and any exception that happen during thetransform in `preprocessing_exc_tuple` in IPython 7.17 and above.\n",
            "  and should_run_async(code)\n"
          ]
        }
      ]
    },
    {
      "cell_type": "markdown",
      "source": [
        "## Data Preparation"
      ],
      "metadata": {
        "id": "c2E-AVM787YN"
      }
    },
    {
      "cell_type": "code",
      "source": [
        "basket = (data.groupby(['Order ID', 'Product Name'])['Product Price']\n",
        "         .sum().unstack().reset_index().fillna(0)\n",
        "         .set_index('Order ID'))\n",
        "\n",
        "def encode_units(x):\n",
        "   return 1 if x >= 1 else 0\n",
        "\n",
        "basket_sets = basket.applymap(encode_units)"
      ],
      "metadata": {
        "colab": {
          "base_uri": "https://localhost:8080/"
        },
        "id": "fjE5D_ip3XW4",
        "outputId": "2e045600-58ad-4b32-b2b3-7a8592429a25"
      },
      "execution_count": null,
      "outputs": [
        {
          "output_type": "stream",
          "name": "stderr",
          "text": [
            "/usr/local/lib/python3.10/dist-packages/ipykernel/ipkernel.py:283: DeprecationWarning: `should_run_async` will not call `transform_cell` automatically in the future. Please pass the result to `transformed_cell` argument and any exception that happen during thetransform in `preprocessing_exc_tuple` in IPython 7.17 and above.\n",
            "  and should_run_async(code)\n",
            "<ipython-input-23-0a778cafe316>:8: FutureWarning: DataFrame.applymap has been deprecated. Use DataFrame.map instead.\n",
            "  basket_sets = basket.applymap(encode_units)\n"
          ]
        }
      ]
    },
    {
      "cell_type": "markdown",
      "source": [
        "## Apriori Algorithm Application"
      ],
      "metadata": {
        "id": "XPrhGgff76qh"
      }
    },
    {
      "cell_type": "code",
      "source": [
        "from mlxtend.frequent_patterns import apriori, association_rules\n",
        "\n",
        "frequent_itemsets = apriori(basket_sets, min_support=0.01, use_colnames=True)\n",
        "# Pass the total number of itemsets as 'num_itemsets'\n",
        "rules = association_rules(frequent_itemsets, frequent_itemsets.shape[0], metric=\"lift\", min_threshold=1)\n",
        "\n",
        "print(frequent_itemsets)\n",
        "print(rules)"
      ],
      "metadata": {
        "colab": {
          "base_uri": "https://localhost:8080/"
        },
        "id": "S1iDtGpE3uQc",
        "outputId": "bbd0ffc9-f284-4530-9843-3396e113c20c"
      },
      "execution_count": null,
      "outputs": [
        {
          "output_type": "stream",
          "name": "stdout",
          "text": [
            "     support                                      itemsets\n",
            "0   0.310000                               (Flatscreen TV)\n",
            "1   0.282000                                  (Headphones)\n",
            "2   0.294000                                    (Hologram)\n",
            "3   0.312000                            (Silicon Ornament)\n",
            "4   0.293333                    (Universal Charging Cable)\n",
            "5   0.324000                                  (VR goggles)\n",
            "6   0.048000                   (Flatscreen TV, Headphones)\n",
            "7   0.048667                     (Flatscreen TV, Hologram)\n",
            "8   0.056000             (Flatscreen TV, Silicon Ornament)\n",
            "9   0.060667     (Flatscreen TV, Universal Charging Cable)\n",
            "10  0.065333                   (Flatscreen TV, VR goggles)\n",
            "11  0.053333                        (Hologram, Headphones)\n",
            "12  0.062667                (Silicon Ornament, Headphones)\n",
            "13  0.045333        (Universal Charging Cable, Headphones)\n",
            "14  0.048000                      (VR goggles, Headphones)\n",
            "15  0.045333                  (Hologram, Silicon Ornament)\n",
            "16  0.052667          (Hologram, Universal Charging Cable)\n",
            "17  0.061333                        (VR goggles, Hologram)\n",
            "18  0.051333  (Universal Charging Cable, Silicon Ornament)\n",
            "19  0.064000                (VR goggles, Silicon Ornament)\n",
            "20  0.052667        (VR goggles, Universal Charging Cable)\n",
            "Empty DataFrame\n",
            "Columns: [antecedents, consequents, antecedent support, consequent support, support, confidence, lift, representativity, leverage, conviction, zhangs_metric, jaccard, certainty, kulczynski]\n",
            "Index: []\n"
          ]
        },
        {
          "output_type": "stream",
          "name": "stderr",
          "text": [
            "/usr/local/lib/python3.10/dist-packages/ipykernel/ipkernel.py:283: DeprecationWarning: `should_run_async` will not call `transform_cell` automatically in the future. Please pass the result to `transformed_cell` argument and any exception that happen during thetransform in `preprocessing_exc_tuple` in IPython 7.17 and above.\n",
            "  and should_run_async(code)\n",
            "/usr/local/lib/python3.10/dist-packages/mlxtend/frequent_patterns/fpcommon.py:161: DeprecationWarning: DataFrames with non-bool types result in worse computationalperformance and their support might be discontinued in the future.Please use a DataFrame with bool type\n",
            "  warnings.warn(\n"
          ]
        }
      ]
    },
    {
      "cell_type": "code",
      "source": [
        "basket = pd.get_dummies(data.groupby(['Order ID', 'Product Name'])['Product Price'].sum().unstack().reset_index().fillna(0),\n",
        "                        columns=data['Product Name'].unique()).astype(bool)\n"
      ],
      "metadata": {
        "colab": {
          "base_uri": "https://localhost:8080/"
        },
        "id": "lbXoe6n_4kZY",
        "outputId": "2d8258c8-5cd2-4a66-e205-21eb28746719"
      },
      "execution_count": null,
      "outputs": [
        {
          "output_type": "stream",
          "name": "stderr",
          "text": [
            "/usr/local/lib/python3.10/dist-packages/ipykernel/ipkernel.py:283: DeprecationWarning: `should_run_async` will not call `transform_cell` automatically in the future. Please pass the result to `transformed_cell` argument and any exception that happen during thetransform in `preprocessing_exc_tuple` in IPython 7.17 and above.\n",
            "  and should_run_async(code)\n"
          ]
        }
      ]
    },
    {
      "cell_type": "markdown",
      "source": [
        "## Top 10 Stores Across the Corporation"
      ],
      "metadata": {
        "id": "zWSK84tJ9Qjt"
      }
    },
    {
      "cell_type": "code",
      "source": [
        "\n",
        "top_stores = data.groupby('Store ID')['Product Price'].sum().sort_values(ascending=False).head(3)\n",
        "\n",
        "print(\"Top 10 Best-Selling Stores Across the Organization:\")\n",
        "print(top_stores)\n"
      ],
      "metadata": {
        "colab": {
          "base_uri": "https://localhost:8080/"
        },
        "id": "ld6P3MLG52SB",
        "outputId": "ab8ae1ac-2812-45ab-e1a6-7f635caf00e2"
      },
      "execution_count": null,
      "outputs": [
        {
          "output_type": "stream",
          "name": "stdout",
          "text": [
            "Top 10 Best-Selling Stores Across the Organization:\n",
            "Store ID\n",
            "3    1112079.0\n",
            "2    1087900.5\n",
            "5    1011057.5\n",
            "Name: Product Price, dtype: float64\n"
          ]
        },
        {
          "output_type": "stream",
          "name": "stderr",
          "text": [
            "/usr/local/lib/python3.10/dist-packages/ipykernel/ipkernel.py:283: DeprecationWarning: `should_run_async` will not call `transform_cell` automatically in the future. Please pass the result to `transformed_cell` argument and any exception that happen during thetransform in `preprocessing_exc_tuple` in IPython 7.17 and above.\n",
            "  and should_run_async(code)\n"
          ]
        }
      ]
    },
    {
      "cell_type": "markdown",
      "source": [
        "Top  Products At Five Stores"
      ],
      "metadata": {
        "id": "N3AQJEwm9V5k"
      }
    },
    {
      "cell_type": "code",
      "source": [
        "# Top Three Products at Five Different Stores\n",
        "top_stores_list = data['Store ID'].unique()[:5]  # Select five different stores\n",
        "for store in top_stores_list:\n",
        "    top_products = (\n",
        "        data[data['Store ID'] == store]\n",
        "        .groupby('Product Name')['Product Price']\n",
        "        .sum()\n",
        "        .sort_values(ascending=False)\n",
        "        .head(3)\n",
        "    )\n",
        "    print(f\"\\nTop 3 Products in Store: {store}\")\n",
        "    print(top_products)\n"
      ],
      "metadata": {
        "colab": {
          "base_uri": "https://localhost:8080/"
        },
        "id": "O5lm0pD56HOw",
        "outputId": "84aee550-8665-49fc-ca14-67c1cca5cef1"
      },
      "execution_count": null,
      "outputs": [
        {
          "output_type": "stream",
          "name": "stdout",
          "text": [
            "\n",
            "Top 3 Products in Store: 1\n",
            "Product Name\n",
            "Hologram         819000.0\n",
            "Flatscreen TV    116000.0\n",
            "Headphones        31150.0\n",
            "Name: Product Price, dtype: float64\n",
            "\n",
            "Top 3 Products in Store: 2\n",
            "Product Name\n",
            "Hologram         927000.0\n",
            "Flatscreen TV    104000.0\n",
            "Headphones        29050.0\n",
            "Name: Product Price, dtype: float64\n",
            "\n",
            "Top 3 Products in Store: 3\n",
            "Product Name\n",
            "Hologram         963000.0\n",
            "Flatscreen TV     90000.0\n",
            "Headphones        35350.0\n",
            "Name: Product Price, dtype: float64\n",
            "\n",
            "Top 3 Products in Store: 4\n",
            "Product Name\n",
            "Hologram         846000.0\n",
            "Flatscreen TV    102000.0\n",
            "Headphones        34300.0\n",
            "Name: Product Price, dtype: float64\n",
            "\n",
            "Top 3 Products in Store: 5\n",
            "Product Name\n",
            "Hologram         855000.0\n",
            "Flatscreen TV    100000.0\n",
            "Headphones        31150.0\n",
            "Name: Product Price, dtype: float64\n"
          ]
        },
        {
          "output_type": "stream",
          "name": "stderr",
          "text": [
            "/usr/local/lib/python3.10/dist-packages/ipykernel/ipkernel.py:283: DeprecationWarning: `should_run_async` will not call `transform_cell` automatically in the future. Please pass the result to `transformed_cell` argument and any exception that happen during thetransform in `preprocessing_exc_tuple` in IPython 7.17 and above.\n",
            "  and should_run_async(code)\n"
          ]
        }
      ]
    }
  ]
}